{
 "cells": [
  {
   "cell_type": "code",
   "execution_count": 5,
   "id": "ced5857e",
   "metadata": {},
   "outputs": [
    {
     "name": "stdout",
     "output_type": "stream",
     "text": [
      "{\"tom\": {\"name\": \"tom\", \"address\": \"gtroad\", \"phone\": \"5753985\"}, \"joe\": {\"name\": \"joe\", \"address\": \"gtproad\", \"phone\": \"57597843985\"}}\n"
     ]
    }
   ],
   "source": [
    "#Video name: Working with Json \n",
    "  \n",
    "#*JSON = Java Script Object Notation\n",
    "\n",
    "#*JSON is data exchange format similiar to XML\n",
    "\n",
    "#In JSON the code format is : \n",
    "#*JSON is lighter in weight than XML\n",
    "#*JSON sample code: \n",
    "book = {}\n",
    "book['tom'] = {\n",
    "    'name': 'tom',\n",
    "    'address': 'gtroad',\n",
    "    'phone': '5753985'\n",
    "}\n",
    "book['joe'] = {\n",
    "    'name': 'joe',\n",
    "    'address': 'gtproad',\n",
    "    'phone': '57597843985'\n",
    "}\n",
    "import json\n",
    "s= json.dumps(book)\n",
    "print(s)\n",
    "with open(\"c://python//book.txt\",\"w\") as f:\n",
    "    f.write(s)\n",
    "\n",
    "#dumps function takes dictionary object as an input and dumps it into string and then it converts it into a JSON format\n",
    "#by using JSON module\n"
   ]
  },
  {
   "cell_type": "code",
   "execution_count": null,
   "id": "102f199a",
   "metadata": {},
   "outputs": [],
   "source": [
    "#Video name : Exception Handling\n",
    "# It works with both the scenerios where Exceptions happen and where exception don't happen. \n",
    "# skeleton Syntax :\n",
    "#          try :\n",
    "#             while road_is_clear() :\n",
    "#                  drive()\n",
    "#             except Accident as e :\n",
    "#                  take_detour()\n",
    "\n",
    "\n",
    "x = input(\"enter the first number : \")\n",
    "y = input(\"Enter the second number : \")\n",
    "try:\n",
    "    z = int(x) / y\n",
    "except ZeroDivisionError as e : \n",
    "    print('Division By Zero Exception : ',e)\n",
    "    z = None\n",
    "except Exception as e :\n",
    "    print('Exception Occured : ',e)\n",
    "    z = None\n",
    "print(\"Division is : \",z)"
   ]
  },
  {
   "cell_type": "code",
   "execution_count": null,
   "id": "1d4efcf0",
   "metadata": {},
   "outputs": [],
   "source": []
  }
 ],
 "metadata": {
  "kernelspec": {
   "display_name": "Python 3 (ipykernel)",
   "language": "python",
   "name": "python3"
  },
  "language_info": {
   "codemirror_mode": {
    "name": "ipython",
    "version": 3
   },
   "file_extension": ".py",
   "mimetype": "text/x-python",
   "name": "python",
   "nbconvert_exporter": "python",
   "pygments_lexer": "ipython3",
   "version": "3.9.13"
  }
 },
 "nbformat": 4,
 "nbformat_minor": 5
}
